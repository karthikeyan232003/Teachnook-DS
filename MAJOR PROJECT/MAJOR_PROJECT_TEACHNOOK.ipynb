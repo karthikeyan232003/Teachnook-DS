{
  "nbformat": 4,
  "nbformat_minor": 0,
  "metadata": {
    "colab": {
      "provenance": []
    },
    "kernelspec": {
      "name": "python3",
      "display_name": "Python 3"
    },
    "language_info": {
      "name": "python"
    }
  },
  "cells": [
    {
      "cell_type": "code",
      "execution_count": 50,
      "metadata": {
        "id": "YtfXIOV0zCha"
      },
      "outputs": [],
      "source": [
        "import pandas as pd\n",
        "df = pd.read_csv(\"/content/placement.csv\")\n"
      ]
    },
    {
      "cell_type": "code",
      "source": [
        "#1 . Printing The dataset\n",
        "df "
      ],
      "metadata": {
        "colab": {
          "base_uri": "https://localhost:8080/",
          "height": 424
        },
        "id": "hjycLE8L2HMb",
        "outputId": "425fd2c5-ffaf-4518-c0c4-87158ea73054"
      },
      "execution_count": 51,
      "outputs": [
        {
          "output_type": "execute_result",
          "data": {
            "text/plain": [
              "     cgpa  placement_exam_marks  placed\n",
              "0    7.19                  26.0       1\n",
              "1    7.46                  38.0       1\n",
              "2    7.54                  40.0       1\n",
              "3    6.42                   8.0       1\n",
              "4    7.23                  17.0       0\n",
              "..    ...                   ...     ...\n",
              "995  8.87                  44.0       1\n",
              "996  9.12                  65.0       1\n",
              "997  4.89                  34.0       0\n",
              "998  8.62                  46.0       1\n",
              "999  4.90                  10.0       1\n",
              "\n",
              "[1000 rows x 3 columns]"
            ],
            "text/html": [
              "\n",
              "  <div id=\"df-70520f8d-df45-4859-ace0-2ba26426993f\">\n",
              "    <div class=\"colab-df-container\">\n",
              "      <div>\n",
              "<style scoped>\n",
              "    .dataframe tbody tr th:only-of-type {\n",
              "        vertical-align: middle;\n",
              "    }\n",
              "\n",
              "    .dataframe tbody tr th {\n",
              "        vertical-align: top;\n",
              "    }\n",
              "\n",
              "    .dataframe thead th {\n",
              "        text-align: right;\n",
              "    }\n",
              "</style>\n",
              "<table border=\"1\" class=\"dataframe\">\n",
              "  <thead>\n",
              "    <tr style=\"text-align: right;\">\n",
              "      <th></th>\n",
              "      <th>cgpa</th>\n",
              "      <th>placement_exam_marks</th>\n",
              "      <th>placed</th>\n",
              "    </tr>\n",
              "  </thead>\n",
              "  <tbody>\n",
              "    <tr>\n",
              "      <th>0</th>\n",
              "      <td>7.19</td>\n",
              "      <td>26.0</td>\n",
              "      <td>1</td>\n",
              "    </tr>\n",
              "    <tr>\n",
              "      <th>1</th>\n",
              "      <td>7.46</td>\n",
              "      <td>38.0</td>\n",
              "      <td>1</td>\n",
              "    </tr>\n",
              "    <tr>\n",
              "      <th>2</th>\n",
              "      <td>7.54</td>\n",
              "      <td>40.0</td>\n",
              "      <td>1</td>\n",
              "    </tr>\n",
              "    <tr>\n",
              "      <th>3</th>\n",
              "      <td>6.42</td>\n",
              "      <td>8.0</td>\n",
              "      <td>1</td>\n",
              "    </tr>\n",
              "    <tr>\n",
              "      <th>4</th>\n",
              "      <td>7.23</td>\n",
              "      <td>17.0</td>\n",
              "      <td>0</td>\n",
              "    </tr>\n",
              "    <tr>\n",
              "      <th>...</th>\n",
              "      <td>...</td>\n",
              "      <td>...</td>\n",
              "      <td>...</td>\n",
              "    </tr>\n",
              "    <tr>\n",
              "      <th>995</th>\n",
              "      <td>8.87</td>\n",
              "      <td>44.0</td>\n",
              "      <td>1</td>\n",
              "    </tr>\n",
              "    <tr>\n",
              "      <th>996</th>\n",
              "      <td>9.12</td>\n",
              "      <td>65.0</td>\n",
              "      <td>1</td>\n",
              "    </tr>\n",
              "    <tr>\n",
              "      <th>997</th>\n",
              "      <td>4.89</td>\n",
              "      <td>34.0</td>\n",
              "      <td>0</td>\n",
              "    </tr>\n",
              "    <tr>\n",
              "      <th>998</th>\n",
              "      <td>8.62</td>\n",
              "      <td>46.0</td>\n",
              "      <td>1</td>\n",
              "    </tr>\n",
              "    <tr>\n",
              "      <th>999</th>\n",
              "      <td>4.90</td>\n",
              "      <td>10.0</td>\n",
              "      <td>1</td>\n",
              "    </tr>\n",
              "  </tbody>\n",
              "</table>\n",
              "<p>1000 rows × 3 columns</p>\n",
              "</div>\n",
              "      <button class=\"colab-df-convert\" onclick=\"convertToInteractive('df-70520f8d-df45-4859-ace0-2ba26426993f')\"\n",
              "              title=\"Convert this dataframe to an interactive table.\"\n",
              "              style=\"display:none;\">\n",
              "        \n",
              "  <svg xmlns=\"http://www.w3.org/2000/svg\" height=\"24px\"viewBox=\"0 0 24 24\"\n",
              "       width=\"24px\">\n",
              "    <path d=\"M0 0h24v24H0V0z\" fill=\"none\"/>\n",
              "    <path d=\"M18.56 5.44l.94 2.06.94-2.06 2.06-.94-2.06-.94-.94-2.06-.94 2.06-2.06.94zm-11 1L8.5 8.5l.94-2.06 2.06-.94-2.06-.94L8.5 2.5l-.94 2.06-2.06.94zm10 10l.94 2.06.94-2.06 2.06-.94-2.06-.94-.94-2.06-.94 2.06-2.06.94z\"/><path d=\"M17.41 7.96l-1.37-1.37c-.4-.4-.92-.59-1.43-.59-.52 0-1.04.2-1.43.59L10.3 9.45l-7.72 7.72c-.78.78-.78 2.05 0 2.83L4 21.41c.39.39.9.59 1.41.59.51 0 1.02-.2 1.41-.59l7.78-7.78 2.81-2.81c.8-.78.8-2.07 0-2.86zM5.41 20L4 18.59l7.72-7.72 1.47 1.35L5.41 20z\"/>\n",
              "  </svg>\n",
              "      </button>\n",
              "      \n",
              "  <style>\n",
              "    .colab-df-container {\n",
              "      display:flex;\n",
              "      flex-wrap:wrap;\n",
              "      gap: 12px;\n",
              "    }\n",
              "\n",
              "    .colab-df-convert {\n",
              "      background-color: #E8F0FE;\n",
              "      border: none;\n",
              "      border-radius: 50%;\n",
              "      cursor: pointer;\n",
              "      display: none;\n",
              "      fill: #1967D2;\n",
              "      height: 32px;\n",
              "      padding: 0 0 0 0;\n",
              "      width: 32px;\n",
              "    }\n",
              "\n",
              "    .colab-df-convert:hover {\n",
              "      background-color: #E2EBFA;\n",
              "      box-shadow: 0px 1px 2px rgba(60, 64, 67, 0.3), 0px 1px 3px 1px rgba(60, 64, 67, 0.15);\n",
              "      fill: #174EA6;\n",
              "    }\n",
              "\n",
              "    [theme=dark] .colab-df-convert {\n",
              "      background-color: #3B4455;\n",
              "      fill: #D2E3FC;\n",
              "    }\n",
              "\n",
              "    [theme=dark] .colab-df-convert:hover {\n",
              "      background-color: #434B5C;\n",
              "      box-shadow: 0px 1px 3px 1px rgba(0, 0, 0, 0.15);\n",
              "      filter: drop-shadow(0px 1px 2px rgba(0, 0, 0, 0.3));\n",
              "      fill: #FFFFFF;\n",
              "    }\n",
              "  </style>\n",
              "\n",
              "      <script>\n",
              "        const buttonEl =\n",
              "          document.querySelector('#df-70520f8d-df45-4859-ace0-2ba26426993f button.colab-df-convert');\n",
              "        buttonEl.style.display =\n",
              "          google.colab.kernel.accessAllowed ? 'block' : 'none';\n",
              "\n",
              "        async function convertToInteractive(key) {\n",
              "          const element = document.querySelector('#df-70520f8d-df45-4859-ace0-2ba26426993f');\n",
              "          const dataTable =\n",
              "            await google.colab.kernel.invokeFunction('convertToInteractive',\n",
              "                                                     [key], {});\n",
              "          if (!dataTable) return;\n",
              "\n",
              "          const docLinkHtml = 'Like what you see? Visit the ' +\n",
              "            '<a target=\"_blank\" href=https://colab.research.google.com/notebooks/data_table.ipynb>data table notebook</a>'\n",
              "            + ' to learn more about interactive tables.';\n",
              "          element.innerHTML = '';\n",
              "          dataTable['output_type'] = 'display_data';\n",
              "          await google.colab.output.renderOutput(dataTable, element);\n",
              "          const docLink = document.createElement('div');\n",
              "          docLink.innerHTML = docLinkHtml;\n",
              "          element.appendChild(docLink);\n",
              "        }\n",
              "      </script>\n",
              "    </div>\n",
              "  </div>\n",
              "  "
            ]
          },
          "metadata": {},
          "execution_count": 51
        }
      ]
    },
    {
      "cell_type": "code",
      "source": [
        "#2.Exploratory Data Analysis\n",
        "df.head()"
      ],
      "metadata": {
        "colab": {
          "base_uri": "https://localhost:8080/",
          "height": 206
        },
        "id": "0fSSNRr72OsT",
        "outputId": "7f7df99b-e59a-42c0-a542-765df4bc8462"
      },
      "execution_count": 52,
      "outputs": [
        {
          "output_type": "execute_result",
          "data": {
            "text/plain": [
              "   cgpa  placement_exam_marks  placed\n",
              "0  7.19                  26.0       1\n",
              "1  7.46                  38.0       1\n",
              "2  7.54                  40.0       1\n",
              "3  6.42                   8.0       1\n",
              "4  7.23                  17.0       0"
            ],
            "text/html": [
              "\n",
              "  <div id=\"df-cca64eda-7f30-4b47-80b4-85c7d728aa4b\">\n",
              "    <div class=\"colab-df-container\">\n",
              "      <div>\n",
              "<style scoped>\n",
              "    .dataframe tbody tr th:only-of-type {\n",
              "        vertical-align: middle;\n",
              "    }\n",
              "\n",
              "    .dataframe tbody tr th {\n",
              "        vertical-align: top;\n",
              "    }\n",
              "\n",
              "    .dataframe thead th {\n",
              "        text-align: right;\n",
              "    }\n",
              "</style>\n",
              "<table border=\"1\" class=\"dataframe\">\n",
              "  <thead>\n",
              "    <tr style=\"text-align: right;\">\n",
              "      <th></th>\n",
              "      <th>cgpa</th>\n",
              "      <th>placement_exam_marks</th>\n",
              "      <th>placed</th>\n",
              "    </tr>\n",
              "  </thead>\n",
              "  <tbody>\n",
              "    <tr>\n",
              "      <th>0</th>\n",
              "      <td>7.19</td>\n",
              "      <td>26.0</td>\n",
              "      <td>1</td>\n",
              "    </tr>\n",
              "    <tr>\n",
              "      <th>1</th>\n",
              "      <td>7.46</td>\n",
              "      <td>38.0</td>\n",
              "      <td>1</td>\n",
              "    </tr>\n",
              "    <tr>\n",
              "      <th>2</th>\n",
              "      <td>7.54</td>\n",
              "      <td>40.0</td>\n",
              "      <td>1</td>\n",
              "    </tr>\n",
              "    <tr>\n",
              "      <th>3</th>\n",
              "      <td>6.42</td>\n",
              "      <td>8.0</td>\n",
              "      <td>1</td>\n",
              "    </tr>\n",
              "    <tr>\n",
              "      <th>4</th>\n",
              "      <td>7.23</td>\n",
              "      <td>17.0</td>\n",
              "      <td>0</td>\n",
              "    </tr>\n",
              "  </tbody>\n",
              "</table>\n",
              "</div>\n",
              "      <button class=\"colab-df-convert\" onclick=\"convertToInteractive('df-cca64eda-7f30-4b47-80b4-85c7d728aa4b')\"\n",
              "              title=\"Convert this dataframe to an interactive table.\"\n",
              "              style=\"display:none;\">\n",
              "        \n",
              "  <svg xmlns=\"http://www.w3.org/2000/svg\" height=\"24px\"viewBox=\"0 0 24 24\"\n",
              "       width=\"24px\">\n",
              "    <path d=\"M0 0h24v24H0V0z\" fill=\"none\"/>\n",
              "    <path d=\"M18.56 5.44l.94 2.06.94-2.06 2.06-.94-2.06-.94-.94-2.06-.94 2.06-2.06.94zm-11 1L8.5 8.5l.94-2.06 2.06-.94-2.06-.94L8.5 2.5l-.94 2.06-2.06.94zm10 10l.94 2.06.94-2.06 2.06-.94-2.06-.94-.94-2.06-.94 2.06-2.06.94z\"/><path d=\"M17.41 7.96l-1.37-1.37c-.4-.4-.92-.59-1.43-.59-.52 0-1.04.2-1.43.59L10.3 9.45l-7.72 7.72c-.78.78-.78 2.05 0 2.83L4 21.41c.39.39.9.59 1.41.59.51 0 1.02-.2 1.41-.59l7.78-7.78 2.81-2.81c.8-.78.8-2.07 0-2.86zM5.41 20L4 18.59l7.72-7.72 1.47 1.35L5.41 20z\"/>\n",
              "  </svg>\n",
              "      </button>\n",
              "      \n",
              "  <style>\n",
              "    .colab-df-container {\n",
              "      display:flex;\n",
              "      flex-wrap:wrap;\n",
              "      gap: 12px;\n",
              "    }\n",
              "\n",
              "    .colab-df-convert {\n",
              "      background-color: #E8F0FE;\n",
              "      border: none;\n",
              "      border-radius: 50%;\n",
              "      cursor: pointer;\n",
              "      display: none;\n",
              "      fill: #1967D2;\n",
              "      height: 32px;\n",
              "      padding: 0 0 0 0;\n",
              "      width: 32px;\n",
              "    }\n",
              "\n",
              "    .colab-df-convert:hover {\n",
              "      background-color: #E2EBFA;\n",
              "      box-shadow: 0px 1px 2px rgba(60, 64, 67, 0.3), 0px 1px 3px 1px rgba(60, 64, 67, 0.15);\n",
              "      fill: #174EA6;\n",
              "    }\n",
              "\n",
              "    [theme=dark] .colab-df-convert {\n",
              "      background-color: #3B4455;\n",
              "      fill: #D2E3FC;\n",
              "    }\n",
              "\n",
              "    [theme=dark] .colab-df-convert:hover {\n",
              "      background-color: #434B5C;\n",
              "      box-shadow: 0px 1px 3px 1px rgba(0, 0, 0, 0.15);\n",
              "      filter: drop-shadow(0px 1px 2px rgba(0, 0, 0, 0.3));\n",
              "      fill: #FFFFFF;\n",
              "    }\n",
              "  </style>\n",
              "\n",
              "      <script>\n",
              "        const buttonEl =\n",
              "          document.querySelector('#df-cca64eda-7f30-4b47-80b4-85c7d728aa4b button.colab-df-convert');\n",
              "        buttonEl.style.display =\n",
              "          google.colab.kernel.accessAllowed ? 'block' : 'none';\n",
              "\n",
              "        async function convertToInteractive(key) {\n",
              "          const element = document.querySelector('#df-cca64eda-7f30-4b47-80b4-85c7d728aa4b');\n",
              "          const dataTable =\n",
              "            await google.colab.kernel.invokeFunction('convertToInteractive',\n",
              "                                                     [key], {});\n",
              "          if (!dataTable) return;\n",
              "\n",
              "          const docLinkHtml = 'Like what you see? Visit the ' +\n",
              "            '<a target=\"_blank\" href=https://colab.research.google.com/notebooks/data_table.ipynb>data table notebook</a>'\n",
              "            + ' to learn more about interactive tables.';\n",
              "          element.innerHTML = '';\n",
              "          dataTable['output_type'] = 'display_data';\n",
              "          await google.colab.output.renderOutput(dataTable, element);\n",
              "          const docLink = document.createElement('div');\n",
              "          docLink.innerHTML = docLinkHtml;\n",
              "          element.appendChild(docLink);\n",
              "        }\n",
              "      </script>\n",
              "    </div>\n",
              "  </div>\n",
              "  "
            ]
          },
          "metadata": {},
          "execution_count": 52
        }
      ]
    },
    {
      "cell_type": "code",
      "source": [
        "#Describing The Dataset\n",
        "df.describe()"
      ],
      "metadata": {
        "colab": {
          "base_uri": "https://localhost:8080/",
          "height": 300
        },
        "id": "Og_n4mta28fL",
        "outputId": "65d7178c-bba9-414d-8fbc-e6878975045d"
      },
      "execution_count": 53,
      "outputs": [
        {
          "output_type": "execute_result",
          "data": {
            "text/plain": [
              "              cgpa  placement_exam_marks       placed\n",
              "count  1000.000000           1000.000000  1000.000000\n",
              "mean      6.961240             32.225000     0.489000\n",
              "std       0.615898             19.130822     0.500129\n",
              "min       4.890000              0.000000     0.000000\n",
              "25%       6.550000             17.000000     0.000000\n",
              "50%       6.960000             28.000000     0.000000\n",
              "75%       7.370000             44.000000     1.000000\n",
              "max       9.120000            100.000000     1.000000"
            ],
            "text/html": [
              "\n",
              "  <div id=\"df-22439dcc-c473-46c3-87b8-3b791181bb5e\">\n",
              "    <div class=\"colab-df-container\">\n",
              "      <div>\n",
              "<style scoped>\n",
              "    .dataframe tbody tr th:only-of-type {\n",
              "        vertical-align: middle;\n",
              "    }\n",
              "\n",
              "    .dataframe tbody tr th {\n",
              "        vertical-align: top;\n",
              "    }\n",
              "\n",
              "    .dataframe thead th {\n",
              "        text-align: right;\n",
              "    }\n",
              "</style>\n",
              "<table border=\"1\" class=\"dataframe\">\n",
              "  <thead>\n",
              "    <tr style=\"text-align: right;\">\n",
              "      <th></th>\n",
              "      <th>cgpa</th>\n",
              "      <th>placement_exam_marks</th>\n",
              "      <th>placed</th>\n",
              "    </tr>\n",
              "  </thead>\n",
              "  <tbody>\n",
              "    <tr>\n",
              "      <th>count</th>\n",
              "      <td>1000.000000</td>\n",
              "      <td>1000.000000</td>\n",
              "      <td>1000.000000</td>\n",
              "    </tr>\n",
              "    <tr>\n",
              "      <th>mean</th>\n",
              "      <td>6.961240</td>\n",
              "      <td>32.225000</td>\n",
              "      <td>0.489000</td>\n",
              "    </tr>\n",
              "    <tr>\n",
              "      <th>std</th>\n",
              "      <td>0.615898</td>\n",
              "      <td>19.130822</td>\n",
              "      <td>0.500129</td>\n",
              "    </tr>\n",
              "    <tr>\n",
              "      <th>min</th>\n",
              "      <td>4.890000</td>\n",
              "      <td>0.000000</td>\n",
              "      <td>0.000000</td>\n",
              "    </tr>\n",
              "    <tr>\n",
              "      <th>25%</th>\n",
              "      <td>6.550000</td>\n",
              "      <td>17.000000</td>\n",
              "      <td>0.000000</td>\n",
              "    </tr>\n",
              "    <tr>\n",
              "      <th>50%</th>\n",
              "      <td>6.960000</td>\n",
              "      <td>28.000000</td>\n",
              "      <td>0.000000</td>\n",
              "    </tr>\n",
              "    <tr>\n",
              "      <th>75%</th>\n",
              "      <td>7.370000</td>\n",
              "      <td>44.000000</td>\n",
              "      <td>1.000000</td>\n",
              "    </tr>\n",
              "    <tr>\n",
              "      <th>max</th>\n",
              "      <td>9.120000</td>\n",
              "      <td>100.000000</td>\n",
              "      <td>1.000000</td>\n",
              "    </tr>\n",
              "  </tbody>\n",
              "</table>\n",
              "</div>\n",
              "      <button class=\"colab-df-convert\" onclick=\"convertToInteractive('df-22439dcc-c473-46c3-87b8-3b791181bb5e')\"\n",
              "              title=\"Convert this dataframe to an interactive table.\"\n",
              "              style=\"display:none;\">\n",
              "        \n",
              "  <svg xmlns=\"http://www.w3.org/2000/svg\" height=\"24px\"viewBox=\"0 0 24 24\"\n",
              "       width=\"24px\">\n",
              "    <path d=\"M0 0h24v24H0V0z\" fill=\"none\"/>\n",
              "    <path d=\"M18.56 5.44l.94 2.06.94-2.06 2.06-.94-2.06-.94-.94-2.06-.94 2.06-2.06.94zm-11 1L8.5 8.5l.94-2.06 2.06-.94-2.06-.94L8.5 2.5l-.94 2.06-2.06.94zm10 10l.94 2.06.94-2.06 2.06-.94-2.06-.94-.94-2.06-.94 2.06-2.06.94z\"/><path d=\"M17.41 7.96l-1.37-1.37c-.4-.4-.92-.59-1.43-.59-.52 0-1.04.2-1.43.59L10.3 9.45l-7.72 7.72c-.78.78-.78 2.05 0 2.83L4 21.41c.39.39.9.59 1.41.59.51 0 1.02-.2 1.41-.59l7.78-7.78 2.81-2.81c.8-.78.8-2.07 0-2.86zM5.41 20L4 18.59l7.72-7.72 1.47 1.35L5.41 20z\"/>\n",
              "  </svg>\n",
              "      </button>\n",
              "      \n",
              "  <style>\n",
              "    .colab-df-container {\n",
              "      display:flex;\n",
              "      flex-wrap:wrap;\n",
              "      gap: 12px;\n",
              "    }\n",
              "\n",
              "    .colab-df-convert {\n",
              "      background-color: #E8F0FE;\n",
              "      border: none;\n",
              "      border-radius: 50%;\n",
              "      cursor: pointer;\n",
              "      display: none;\n",
              "      fill: #1967D2;\n",
              "      height: 32px;\n",
              "      padding: 0 0 0 0;\n",
              "      width: 32px;\n",
              "    }\n",
              "\n",
              "    .colab-df-convert:hover {\n",
              "      background-color: #E2EBFA;\n",
              "      box-shadow: 0px 1px 2px rgba(60, 64, 67, 0.3), 0px 1px 3px 1px rgba(60, 64, 67, 0.15);\n",
              "      fill: #174EA6;\n",
              "    }\n",
              "\n",
              "    [theme=dark] .colab-df-convert {\n",
              "      background-color: #3B4455;\n",
              "      fill: #D2E3FC;\n",
              "    }\n",
              "\n",
              "    [theme=dark] .colab-df-convert:hover {\n",
              "      background-color: #434B5C;\n",
              "      box-shadow: 0px 1px 3px 1px rgba(0, 0, 0, 0.15);\n",
              "      filter: drop-shadow(0px 1px 2px rgba(0, 0, 0, 0.3));\n",
              "      fill: #FFFFFF;\n",
              "    }\n",
              "  </style>\n",
              "\n",
              "      <script>\n",
              "        const buttonEl =\n",
              "          document.querySelector('#df-22439dcc-c473-46c3-87b8-3b791181bb5e button.colab-df-convert');\n",
              "        buttonEl.style.display =\n",
              "          google.colab.kernel.accessAllowed ? 'block' : 'none';\n",
              "\n",
              "        async function convertToInteractive(key) {\n",
              "          const element = document.querySelector('#df-22439dcc-c473-46c3-87b8-3b791181bb5e');\n",
              "          const dataTable =\n",
              "            await google.colab.kernel.invokeFunction('convertToInteractive',\n",
              "                                                     [key], {});\n",
              "          if (!dataTable) return;\n",
              "\n",
              "          const docLinkHtml = 'Like what you see? Visit the ' +\n",
              "            '<a target=\"_blank\" href=https://colab.research.google.com/notebooks/data_table.ipynb>data table notebook</a>'\n",
              "            + ' to learn more about interactive tables.';\n",
              "          element.innerHTML = '';\n",
              "          dataTable['output_type'] = 'display_data';\n",
              "          await google.colab.output.renderOutput(dataTable, element);\n",
              "          const docLink = document.createElement('div');\n",
              "          docLink.innerHTML = docLinkHtml;\n",
              "          element.appendChild(docLink);\n",
              "        }\n",
              "      </script>\n",
              "    </div>\n",
              "  </div>\n",
              "  "
            ]
          },
          "metadata": {},
          "execution_count": 53
        }
      ]
    },
    {
      "cell_type": "code",
      "source": [
        "#Dropping The NULL Values\n",
        "df = df.dropna()\n",
        "df"
      ],
      "metadata": {
        "colab": {
          "base_uri": "https://localhost:8080/",
          "height": 424
        },
        "id": "mmAgSD_J2_B5",
        "outputId": "c4059baa-57fc-4993-a34f-00623ed52881"
      },
      "execution_count": 54,
      "outputs": [
        {
          "output_type": "execute_result",
          "data": {
            "text/plain": [
              "     cgpa  placement_exam_marks  placed\n",
              "0    7.19                  26.0       1\n",
              "1    7.46                  38.0       1\n",
              "2    7.54                  40.0       1\n",
              "3    6.42                   8.0       1\n",
              "4    7.23                  17.0       0\n",
              "..    ...                   ...     ...\n",
              "995  8.87                  44.0       1\n",
              "996  9.12                  65.0       1\n",
              "997  4.89                  34.0       0\n",
              "998  8.62                  46.0       1\n",
              "999  4.90                  10.0       1\n",
              "\n",
              "[1000 rows x 3 columns]"
            ],
            "text/html": [
              "\n",
              "  <div id=\"df-2060e23f-57a6-4b83-81e4-71d5f3ee6f20\">\n",
              "    <div class=\"colab-df-container\">\n",
              "      <div>\n",
              "<style scoped>\n",
              "    .dataframe tbody tr th:only-of-type {\n",
              "        vertical-align: middle;\n",
              "    }\n",
              "\n",
              "    .dataframe tbody tr th {\n",
              "        vertical-align: top;\n",
              "    }\n",
              "\n",
              "    .dataframe thead th {\n",
              "        text-align: right;\n",
              "    }\n",
              "</style>\n",
              "<table border=\"1\" class=\"dataframe\">\n",
              "  <thead>\n",
              "    <tr style=\"text-align: right;\">\n",
              "      <th></th>\n",
              "      <th>cgpa</th>\n",
              "      <th>placement_exam_marks</th>\n",
              "      <th>placed</th>\n",
              "    </tr>\n",
              "  </thead>\n",
              "  <tbody>\n",
              "    <tr>\n",
              "      <th>0</th>\n",
              "      <td>7.19</td>\n",
              "      <td>26.0</td>\n",
              "      <td>1</td>\n",
              "    </tr>\n",
              "    <tr>\n",
              "      <th>1</th>\n",
              "      <td>7.46</td>\n",
              "      <td>38.0</td>\n",
              "      <td>1</td>\n",
              "    </tr>\n",
              "    <tr>\n",
              "      <th>2</th>\n",
              "      <td>7.54</td>\n",
              "      <td>40.0</td>\n",
              "      <td>1</td>\n",
              "    </tr>\n",
              "    <tr>\n",
              "      <th>3</th>\n",
              "      <td>6.42</td>\n",
              "      <td>8.0</td>\n",
              "      <td>1</td>\n",
              "    </tr>\n",
              "    <tr>\n",
              "      <th>4</th>\n",
              "      <td>7.23</td>\n",
              "      <td>17.0</td>\n",
              "      <td>0</td>\n",
              "    </tr>\n",
              "    <tr>\n",
              "      <th>...</th>\n",
              "      <td>...</td>\n",
              "      <td>...</td>\n",
              "      <td>...</td>\n",
              "    </tr>\n",
              "    <tr>\n",
              "      <th>995</th>\n",
              "      <td>8.87</td>\n",
              "      <td>44.0</td>\n",
              "      <td>1</td>\n",
              "    </tr>\n",
              "    <tr>\n",
              "      <th>996</th>\n",
              "      <td>9.12</td>\n",
              "      <td>65.0</td>\n",
              "      <td>1</td>\n",
              "    </tr>\n",
              "    <tr>\n",
              "      <th>997</th>\n",
              "      <td>4.89</td>\n",
              "      <td>34.0</td>\n",
              "      <td>0</td>\n",
              "    </tr>\n",
              "    <tr>\n",
              "      <th>998</th>\n",
              "      <td>8.62</td>\n",
              "      <td>46.0</td>\n",
              "      <td>1</td>\n",
              "    </tr>\n",
              "    <tr>\n",
              "      <th>999</th>\n",
              "      <td>4.90</td>\n",
              "      <td>10.0</td>\n",
              "      <td>1</td>\n",
              "    </tr>\n",
              "  </tbody>\n",
              "</table>\n",
              "<p>1000 rows × 3 columns</p>\n",
              "</div>\n",
              "      <button class=\"colab-df-convert\" onclick=\"convertToInteractive('df-2060e23f-57a6-4b83-81e4-71d5f3ee6f20')\"\n",
              "              title=\"Convert this dataframe to an interactive table.\"\n",
              "              style=\"display:none;\">\n",
              "        \n",
              "  <svg xmlns=\"http://www.w3.org/2000/svg\" height=\"24px\"viewBox=\"0 0 24 24\"\n",
              "       width=\"24px\">\n",
              "    <path d=\"M0 0h24v24H0V0z\" fill=\"none\"/>\n",
              "    <path d=\"M18.56 5.44l.94 2.06.94-2.06 2.06-.94-2.06-.94-.94-2.06-.94 2.06-2.06.94zm-11 1L8.5 8.5l.94-2.06 2.06-.94-2.06-.94L8.5 2.5l-.94 2.06-2.06.94zm10 10l.94 2.06.94-2.06 2.06-.94-2.06-.94-.94-2.06-.94 2.06-2.06.94z\"/><path d=\"M17.41 7.96l-1.37-1.37c-.4-.4-.92-.59-1.43-.59-.52 0-1.04.2-1.43.59L10.3 9.45l-7.72 7.72c-.78.78-.78 2.05 0 2.83L4 21.41c.39.39.9.59 1.41.59.51 0 1.02-.2 1.41-.59l7.78-7.78 2.81-2.81c.8-.78.8-2.07 0-2.86zM5.41 20L4 18.59l7.72-7.72 1.47 1.35L5.41 20z\"/>\n",
              "  </svg>\n",
              "      </button>\n",
              "      \n",
              "  <style>\n",
              "    .colab-df-container {\n",
              "      display:flex;\n",
              "      flex-wrap:wrap;\n",
              "      gap: 12px;\n",
              "    }\n",
              "\n",
              "    .colab-df-convert {\n",
              "      background-color: #E8F0FE;\n",
              "      border: none;\n",
              "      border-radius: 50%;\n",
              "      cursor: pointer;\n",
              "      display: none;\n",
              "      fill: #1967D2;\n",
              "      height: 32px;\n",
              "      padding: 0 0 0 0;\n",
              "      width: 32px;\n",
              "    }\n",
              "\n",
              "    .colab-df-convert:hover {\n",
              "      background-color: #E2EBFA;\n",
              "      box-shadow: 0px 1px 2px rgba(60, 64, 67, 0.3), 0px 1px 3px 1px rgba(60, 64, 67, 0.15);\n",
              "      fill: #174EA6;\n",
              "    }\n",
              "\n",
              "    [theme=dark] .colab-df-convert {\n",
              "      background-color: #3B4455;\n",
              "      fill: #D2E3FC;\n",
              "    }\n",
              "\n",
              "    [theme=dark] .colab-df-convert:hover {\n",
              "      background-color: #434B5C;\n",
              "      box-shadow: 0px 1px 3px 1px rgba(0, 0, 0, 0.15);\n",
              "      filter: drop-shadow(0px 1px 2px rgba(0, 0, 0, 0.3));\n",
              "      fill: #FFFFFF;\n",
              "    }\n",
              "  </style>\n",
              "\n",
              "      <script>\n",
              "        const buttonEl =\n",
              "          document.querySelector('#df-2060e23f-57a6-4b83-81e4-71d5f3ee6f20 button.colab-df-convert');\n",
              "        buttonEl.style.display =\n",
              "          google.colab.kernel.accessAllowed ? 'block' : 'none';\n",
              "\n",
              "        async function convertToInteractive(key) {\n",
              "          const element = document.querySelector('#df-2060e23f-57a6-4b83-81e4-71d5f3ee6f20');\n",
              "          const dataTable =\n",
              "            await google.colab.kernel.invokeFunction('convertToInteractive',\n",
              "                                                     [key], {});\n",
              "          if (!dataTable) return;\n",
              "\n",
              "          const docLinkHtml = 'Like what you see? Visit the ' +\n",
              "            '<a target=\"_blank\" href=https://colab.research.google.com/notebooks/data_table.ipynb>data table notebook</a>'\n",
              "            + ' to learn more about interactive tables.';\n",
              "          element.innerHTML = '';\n",
              "          dataTable['output_type'] = 'display_data';\n",
              "          await google.colab.output.renderOutput(dataTable, element);\n",
              "          const docLink = document.createElement('div');\n",
              "          docLink.innerHTML = docLinkHtml;\n",
              "          element.appendChild(docLink);\n",
              "        }\n",
              "      </script>\n",
              "    </div>\n",
              "  </div>\n",
              "  "
            ]
          },
          "metadata": {},
          "execution_count": 54
        }
      ]
    },
    {
      "cell_type": "code",
      "source": [
        "#Calculating Covariance\n",
        "df.corr()"
      ],
      "metadata": {
        "colab": {
          "base_uri": "https://localhost:8080/",
          "height": 143
        },
        "id": "AbZG_CMAiP57",
        "outputId": "a9cde9fb-d1bf-4efb-b47a-2afe940d272d"
      },
      "execution_count": 76,
      "outputs": [
        {
          "output_type": "execute_result",
          "data": {
            "text/plain": [
              "                          cgpa  placement_exam_marks    placed\n",
              "cgpa                  1.000000             -0.027371  0.027212\n",
              "placement_exam_marks -0.027371              1.000000 -0.025530\n",
              "placed                0.027212             -0.025530  1.000000"
            ],
            "text/html": [
              "\n",
              "  <div id=\"df-9a72bca7-6850-4c11-8530-850f6efdb63b\">\n",
              "    <div class=\"colab-df-container\">\n",
              "      <div>\n",
              "<style scoped>\n",
              "    .dataframe tbody tr th:only-of-type {\n",
              "        vertical-align: middle;\n",
              "    }\n",
              "\n",
              "    .dataframe tbody tr th {\n",
              "        vertical-align: top;\n",
              "    }\n",
              "\n",
              "    .dataframe thead th {\n",
              "        text-align: right;\n",
              "    }\n",
              "</style>\n",
              "<table border=\"1\" class=\"dataframe\">\n",
              "  <thead>\n",
              "    <tr style=\"text-align: right;\">\n",
              "      <th></th>\n",
              "      <th>cgpa</th>\n",
              "      <th>placement_exam_marks</th>\n",
              "      <th>placed</th>\n",
              "    </tr>\n",
              "  </thead>\n",
              "  <tbody>\n",
              "    <tr>\n",
              "      <th>cgpa</th>\n",
              "      <td>1.000000</td>\n",
              "      <td>-0.027371</td>\n",
              "      <td>0.027212</td>\n",
              "    </tr>\n",
              "    <tr>\n",
              "      <th>placement_exam_marks</th>\n",
              "      <td>-0.027371</td>\n",
              "      <td>1.000000</td>\n",
              "      <td>-0.025530</td>\n",
              "    </tr>\n",
              "    <tr>\n",
              "      <th>placed</th>\n",
              "      <td>0.027212</td>\n",
              "      <td>-0.025530</td>\n",
              "      <td>1.000000</td>\n",
              "    </tr>\n",
              "  </tbody>\n",
              "</table>\n",
              "</div>\n",
              "      <button class=\"colab-df-convert\" onclick=\"convertToInteractive('df-9a72bca7-6850-4c11-8530-850f6efdb63b')\"\n",
              "              title=\"Convert this dataframe to an interactive table.\"\n",
              "              style=\"display:none;\">\n",
              "        \n",
              "  <svg xmlns=\"http://www.w3.org/2000/svg\" height=\"24px\"viewBox=\"0 0 24 24\"\n",
              "       width=\"24px\">\n",
              "    <path d=\"M0 0h24v24H0V0z\" fill=\"none\"/>\n",
              "    <path d=\"M18.56 5.44l.94 2.06.94-2.06 2.06-.94-2.06-.94-.94-2.06-.94 2.06-2.06.94zm-11 1L8.5 8.5l.94-2.06 2.06-.94-2.06-.94L8.5 2.5l-.94 2.06-2.06.94zm10 10l.94 2.06.94-2.06 2.06-.94-2.06-.94-.94-2.06-.94 2.06-2.06.94z\"/><path d=\"M17.41 7.96l-1.37-1.37c-.4-.4-.92-.59-1.43-.59-.52 0-1.04.2-1.43.59L10.3 9.45l-7.72 7.72c-.78.78-.78 2.05 0 2.83L4 21.41c.39.39.9.59 1.41.59.51 0 1.02-.2 1.41-.59l7.78-7.78 2.81-2.81c.8-.78.8-2.07 0-2.86zM5.41 20L4 18.59l7.72-7.72 1.47 1.35L5.41 20z\"/>\n",
              "  </svg>\n",
              "      </button>\n",
              "      \n",
              "  <style>\n",
              "    .colab-df-container {\n",
              "      display:flex;\n",
              "      flex-wrap:wrap;\n",
              "      gap: 12px;\n",
              "    }\n",
              "\n",
              "    .colab-df-convert {\n",
              "      background-color: #E8F0FE;\n",
              "      border: none;\n",
              "      border-radius: 50%;\n",
              "      cursor: pointer;\n",
              "      display: none;\n",
              "      fill: #1967D2;\n",
              "      height: 32px;\n",
              "      padding: 0 0 0 0;\n",
              "      width: 32px;\n",
              "    }\n",
              "\n",
              "    .colab-df-convert:hover {\n",
              "      background-color: #E2EBFA;\n",
              "      box-shadow: 0px 1px 2px rgba(60, 64, 67, 0.3), 0px 1px 3px 1px rgba(60, 64, 67, 0.15);\n",
              "      fill: #174EA6;\n",
              "    }\n",
              "\n",
              "    [theme=dark] .colab-df-convert {\n",
              "      background-color: #3B4455;\n",
              "      fill: #D2E3FC;\n",
              "    }\n",
              "\n",
              "    [theme=dark] .colab-df-convert:hover {\n",
              "      background-color: #434B5C;\n",
              "      box-shadow: 0px 1px 3px 1px rgba(0, 0, 0, 0.15);\n",
              "      filter: drop-shadow(0px 1px 2px rgba(0, 0, 0, 0.3));\n",
              "      fill: #FFFFFF;\n",
              "    }\n",
              "  </style>\n",
              "\n",
              "      <script>\n",
              "        const buttonEl =\n",
              "          document.querySelector('#df-9a72bca7-6850-4c11-8530-850f6efdb63b button.colab-df-convert');\n",
              "        buttonEl.style.display =\n",
              "          google.colab.kernel.accessAllowed ? 'block' : 'none';\n",
              "\n",
              "        async function convertToInteractive(key) {\n",
              "          const element = document.querySelector('#df-9a72bca7-6850-4c11-8530-850f6efdb63b');\n",
              "          const dataTable =\n",
              "            await google.colab.kernel.invokeFunction('convertToInteractive',\n",
              "                                                     [key], {});\n",
              "          if (!dataTable) return;\n",
              "\n",
              "          const docLinkHtml = 'Like what you see? Visit the ' +\n",
              "            '<a target=\"_blank\" href=https://colab.research.google.com/notebooks/data_table.ipynb>data table notebook</a>'\n",
              "            + ' to learn more about interactive tables.';\n",
              "          element.innerHTML = '';\n",
              "          dataTable['output_type'] = 'display_data';\n",
              "          await google.colab.output.renderOutput(dataTable, element);\n",
              "          const docLink = document.createElement('div');\n",
              "          docLink.innerHTML = docLinkHtml;\n",
              "          element.appendChild(docLink);\n",
              "        }\n",
              "      </script>\n",
              "    </div>\n",
              "  </div>\n",
              "  "
            ]
          },
          "metadata": {},
          "execution_count": 76
        }
      ]
    },
    {
      "cell_type": "code",
      "source": [
        "#3. Data Visualization\n",
        "import matplotlib.pyplot as plt\n",
        "plt.xlabel(\"CGPA\")\n",
        "plt.ylabel(\"TOTAL SALARY IN LPA\")\n",
        "plt.title(\"CGPA vs TOTAL STUDENT'S SALARY\")\n",
        "plt.scatter(df['cgpa'],df['placement_exam_marks'])"
      ],
      "metadata": {
        "colab": {
          "base_uri": "https://localhost:8080/",
          "height": 312
        },
        "id": "_xM7AapI320a",
        "outputId": "ca9171e2-5962-482c-dda9-69c10acf2830"
      },
      "execution_count": 55,
      "outputs": [
        {
          "output_type": "execute_result",
          "data": {
            "text/plain": [
              "<matplotlib.collections.PathCollection at 0x7f3a5c45b850>"
            ]
          },
          "metadata": {},
          "execution_count": 55
        },
        {
          "output_type": "display_data",
          "data": {
            "text/plain": [
              "<Figure size 432x288 with 1 Axes>"
            ],
            "image/png": "[encoded data removed]"
          },
          "metadata": {
            "needs_background": "light"
          }
        }
      ]
    },
    {
      "cell_type": "code",
      "source": [
        "import seaborn as sns\n",
        "sns.pairplot(df)"
      ],
      "metadata": {
        "colab": {
          "base_uri": "https://localhost:8080/",
          "height": 567
        },
        "id": "UHj9W1becSXf",
        "outputId": "7758f8a4-dcaf-4e82-f11c-42af81200aa7"
      },
      "execution_count": 56,
      "outputs": [
        {
          "output_type": "execute_result",
          "data": {
            "text/plain": [
              "<seaborn.axisgrid.PairGrid at 0x7f3a5c5c8cd0>"
            ]
          },
          "metadata": {},
          "execution_count": 56
        },
        {
          "output_type": "display_data",
          "data": {
            "text/plain": [
              "<Figure size 540x540 with 12 Axes>"
            ],
            "image/png": "[encoded data removed]"
          },
          "metadata": {
            "needs_background": "light"
          }
        }
      ]
    },
    {
      "cell_type": "code",
      "source": [
        "#Printing The HeatMap\n",
        "sns.heatmap(df)"
      ],
      "metadata": {
        "colab": {
          "base_uri": "https://localhost:8080/",
          "height": 288
        },
        "id": "lwoYtejvcr_u",
        "outputId": "96a7124b-588f-46da-9d43-278a77b4dd90"
      },
      "execution_count": 57,
      "outputs": [
        {
          "output_type": "execute_result",
          "data": {
            "text/plain": [
              "<AxesSubplot:>"
            ]
          },
          "metadata": {},
          "execution_count": 57
        },
        {
          "output_type": "display_data",
          "data": {
            "text/plain": [
              "<Figure size 432x288 with 2 Axes>"
            ],
            "image/png": "[encoded data removed]"
          },
          "metadata": {
            "needs_background": "light"
          }
        }
      ]
    },
    {
      "cell_type": "code",
      "source": [
        "sns.histplot(df)"
      ],
      "metadata": {
        "colab": {
          "base_uri": "https://localhost:8080/",
          "height": 282
        },
        "id": "nM9yzX7Sj_Ah",
        "outputId": "cf02fffc-31c1-4d66-c5c8-9a7160c51885"
      },
      "execution_count": 77,
      "outputs": [
        {
          "output_type": "execute_result",
          "data": {
            "text/plain": [
              "<AxesSubplot:ylabel='Count'>"
            ]
          },
          "metadata": {},
          "execution_count": 77
        },
        {
          "output_type": "display_data",
          "data": {
            "text/plain": [
              "<Figure size 432x288 with 1 Axes>"
            ],
            "image/png": "[encoded data removed]"
          },
          "metadata": {
            "needs_background": "light"
          }
        }
      ]
    },
    {
      "cell_type": "code",
      "source": [
        "#Now Let us predict the total students LPA based on the student\n",
        "\n",
        "#The general equation for a straight line is y = mx + c\n",
        "#Here,\n",
        "# y = Total student's salary in LPA corresponding to that CGPA\n",
        "# x = CGPA\n",
        "# m = Slope of the Line\n",
        "# c = Intercept"
      ],
      "metadata": {
        "id": "lv1UIQSr4jzy"
      },
      "execution_count": 58,
      "outputs": []
    },
    {
      "cell_type": "code",
      "source": [
        "#importing the modules\n",
        "from sklearn.linear_model import LinearRegression\n",
        "from sklearn.model_selection import train_test_split\n",
        "model = LinearRegression()"
      ],
      "metadata": {
        "id": "Eg6QL5015ZG6"
      },
      "execution_count": 59,
      "outputs": []
    },
    {
      "cell_type": "code",
      "source": [
        "#4.Create Input And Output Variables\n",
        "cgpa = df.iloc[:,0:1].values\n",
        "lpa = df.iloc[:,1].values"
      ],
      "metadata": {
        "id": "w5dbdkvT6CLA"
      },
      "execution_count": 60,
      "outputs": []
    },
    {
      "cell_type": "code",
      "source": [
        "#5.Fitting The model\n",
        "model = LinearRegression()\n",
        "model.fit(cgpa,lpa)"
      ],
      "metadata": {
        "colab": {
          "base_uri": "https://localhost:8080/",
          "height": 75
        },
        "id": "XfGrQIkM6r0P",
        "outputId": "486608f1-b801-4397-bb93-f6e625c7fed8"
      },
      "execution_count": 61,
      "outputs": [
        {
          "output_type": "execute_result",
          "data": {
            "text/plain": [
              "LinearRegression()"
            ],
            "text/html": [
              "<style>#sk-container-id-2 {color: black;background-color: white;}#sk-container-id-2 pre{padding: 0;}#sk-container-id-2 div.sk-toggleable {background-color: white;}#sk-container-id-2 label.sk-toggleable__label {cursor: pointer;display: block;width: 100%;margin-bottom: 0;padding: 0.3em;box-sizing: border-box;text-align: center;}#sk-container-id-2 label.sk-toggleable__label-arrow:before {content: \"▸\";float: left;margin-right: 0.25em;color: #696969;}#sk-container-id-2 label.sk-toggleable__label-arrow:hover:before {color: black;}#sk-container-id-2 div.sk-estimator:hover label.sk-toggleable__label-arrow:before {color: black;}#sk-container-id-2 div.sk-toggleable__content {max-height: 0;max-width: 0;overflow: hidden;text-align: left;background-color: #f0f8ff;}#sk-container-id-2 div.sk-toggleable__content pre {margin: 0.2em;color: black;border-radius: 0.25em;background-color: #f0f8ff;}#sk-container-id-2 input.sk-toggleable__control:checked~div.sk-toggleable__content {max-height: 200px;max-width: 100%;overflow: auto;}#sk-container-id-2 input.sk-toggleable__control:checked~label.sk-toggleable__label-arrow:before {content: \"▾\";}#sk-container-id-2 div.sk-estimator input.sk-toggleable__control:checked~label.sk-toggleable__label {background-color: #d4ebff;}#sk-container-id-2 div.sk-label input.sk-toggleable__control:checked~label.sk-toggleable__label {background-color: #d4ebff;}#sk-container-id-2 input.sk-hidden--visually {border: 0;clip: rect(1px 1px 1px 1px);clip: rect(1px, 1px, 1px, 1px);height: 1px;margin: -1px;overflow: hidden;padding: 0;position: absolute;width: 1px;}#sk-container-id-2 div.sk-estimator {font-family: monospace;background-color: #f0f8ff;border: 1px dotted black;border-radius: 0.25em;box-sizing: border-box;margin-bottom: 0.5em;}#sk-container-id-2 div.sk-estimator:hover {background-color: #d4ebff;}#sk-container-id-2 div.sk-parallel-item::after {content: \"\";width: 100%;border-bottom: 1px solid gray;flex-grow: 1;}#sk-container-id-2 div.sk-label:hover label.sk-toggleable__label {background-color: #d4ebff;}#sk-container-id-2 div.sk-serial::before {content: \"\";position: absolute;border-left: 1px solid gray;box-sizing: border-box;top: 0;bottom: 0;left: 50%;z-index: 0;}#sk-container-id-2 div.sk-serial {display: flex;flex-direction: column;align-items: center;background-color: white;padding-right: 0.2em;padding-left: 0.2em;position: relative;}#sk-container-id-2 div.sk-item {position: relative;z-index: 1;}#sk-container-id-2 div.sk-parallel {display: flex;align-items: stretch;justify-content: center;background-color: white;position: relative;}#sk-container-id-2 div.sk-item::before, #sk-container-id-2 div.sk-parallel-item::before {content: \"\";position: absolute;border-left: 1px solid gray;box-sizing: border-box;top: 0;bottom: 0;left: 50%;z-index: -1;}#sk-container-id-2 div.sk-parallel-item {display: flex;flex-direction: column;z-index: 1;position: relative;background-color: white;}#sk-container-id-2 div.sk-parallel-item:first-child::after {align-self: flex-end;width: 50%;}#sk-container-id-2 div.sk-parallel-item:last-child::after {align-self: flex-start;width: 50%;}#sk-container-id-2 div.sk-parallel-item:only-child::after {width: 0;}#sk-container-id-2 div.sk-dashed-wrapped {border: 1px dashed gray;margin: 0 0.4em 0.5em 0.4em;box-sizing: border-box;padding-bottom: 0.4em;background-color: white;}#sk-container-id-2 div.sk-label label {font-family: monospace;font-weight: bold;display: inline-block;line-height: 1.2em;}#sk-container-id-2 div.sk-label-container {text-align: center;}#sk-container-id-2 div.sk-container {/* jupyter's `normalize.less` sets `[hidden] { display: none; }` but bootstrap.min.css set `[hidden] { display: none !important; }` so we also need the `!important` here to be able to override the default hidden behavior on the sphinx rendered scikit-learn.org. See: https://github.com/scikit-learn/scikit-learn/issues/21755 */display: inline-block !important;position: relative;}#sk-container-id-2 div.sk-text-repr-fallback {display: none;}</style><div id=\"sk-container-id-2\" class=\"sk-top-container\"><div class=\"sk-text-repr-fallback\"><pre>LinearRegression()</pre><b>In a Jupyter environment, please rerun this cell to show the HTML representation or trust the notebook. <br />On GitHub, the HTML representation is unable to render, please try loading this page with nbviewer.org.</b></div><div class=\"sk-container\" hidden><div class=\"sk-item\"><div class=\"sk-estimator sk-toggleable\"><input class=\"sk-toggleable__control sk-hidden--visually\" id=\"sk-estimator-id-2\" type=\"checkbox\" checked><label for=\"sk-estimator-id-2\" class=\"sk-toggleable__label sk-toggleable__label-arrow\">LinearRegression</label><div class=\"sk-toggleable__content\"><pre>LinearRegression()</pre></div></div></div></div></div>"
            ]
          },
          "metadata": {},
          "execution_count": 61
        }
      ]
    },
    {
      "cell_type": "code",
      "source": [
        "#6. Map Input To Output\n",
        "y_pred = model.predict(cgpa)\n",
        "y_pred"
      ],
      "metadata": {
        "colab": {
          "base_uri": "https://localhost:8080/"
        },
        "id": "CCLR4AY77E5Z",
        "outputId": "9da276a6-4848-4991-f657-48e7a604c81b"
      },
      "execution_count": 62,
      "outputs": [
        {
          "output_type": "execute_result",
          "data": {
            "text/plain": [
              "array([32.03051128, 31.80096086, 31.73294592, 32.68515507, 31.99650381,\n",
              "       31.93699074, 32.45560465, 32.09002435, 32.65964947, 31.5544067 ,\n",
              "       32.34508038, 32.71916254, 32.54912519, 33.31429326, 31.41837682,\n",
              "       32.10702809, 32.59163453, 31.71594218, 32.25155983, 31.65642911,\n",
              "       32.45560465, 31.82646646, 32.39609158, 32.99972417, 32.66815134,\n",
              "       32.80418122, 31.80946273, 32.59163453, 31.99650381, 32.60863827,\n",
              "       31.80096086, 31.63092351, 33.11875031, 32.84669055, 31.21433201,\n",
              "       31.78395712, 32.31957477, 30.90826478, 32.54912519, 31.97950008,\n",
              "       32.53212146, 32.44710279, 31.80096086, 31.46938803, 31.44388243,\n",
              "       32.2600617 , 31.93699074, 32.2600617 , 32.79567935, 31.14631707,\n",
              "       32.87219616, 32.83818869, 31.74144779, 32.45560465, 30.98478158,\n",
              "       31.23983761, 32.25155983, 31.57141044, 31.90298327, 31.59691604,\n",
              "       31.39287122, 31.75845152, 31.67343285, 32.85519242, 32.2090505 ,\n",
              "       32.81268309, 32.47260839, 31.30785255, 32.54912519, 31.8434702 ,\n",
              "       32.2090505 , 32.93170923, 31.42687869, 32.71066068, 32.90620363,\n",
              "       32.38758971, 31.04429466, 32.10702809, 31.17182267, 31.65642911,\n",
              "       32.30257104, 32.09002435, 32.00500568, 31.8689758 , 33.33979887,\n",
              "       33.0167279 , 32.03051128, 32.22605423, 32.37908785, 32.56612893,\n",
              "       31.67343285, 31.83496833, 32.63414387, 32.19204676, 32.06451875,\n",
              "       32.2855673 , 32.11552995, 31.91148514, 31.23983761, 31.80096086,\n",
              "       32.56612893, 32.63414387, 33.11024845, 32.66815134, 32.34508038,\n",
              "       32.43009905, 32.54062333, 31.919987  , 33.09324471, 31.99650381,\n",
              "       32.22605423, 32.63414387, 31.99650381, 31.98800194, 32.78717748,\n",
              "       31.95399447, 32.05601688, 32.09852622, 32.27706544, 32.19204676,\n",
              "       32.20054863, 33.11875031, 33.06773911, 32.82968682, 32.87219616,\n",
              "       31.80096086, 32.05601688, 32.2345561 , 32.39609158, 32.35358224,\n",
              "       33.11875031, 31.18032454, 31.58841417, 31.63942538, 32.76167188,\n",
              "       32.50661586, 31.95399447, 33.3057914 , 31.74144779, 31.26534321,\n",
              "       32.31957477, 32.03051128, 31.63092351, 32.77017375, 32.47260839,\n",
              "       32.12403182, 32.40459345, 32.46410652, 32.31107291, 32.35358224,\n",
              "       30.89126104, 31.94549261, 31.5289011 , 32.79567935, 31.70744032,\n",
              "       31.4778899 , 32.70215881, 32.13253369, 33.26328206, 32.44710279,\n",
              "       31.88597953, 32.82118495, 31.51189737, 32.38758971, 32.79567935,\n",
              "       31.74144779, 31.54590484, 32.48961212, 32.60863827, 32.88069802,\n",
              "       32.89770176, 32.87219616, 31.98800194, 32.43860092, 31.92848887,\n",
              "       31.70744032, 31.57991231, 32.85519242, 31.75845152, 32.70215881,\n",
              "       32.03901315, 31.93699074, 32.30257104, 32.94871296, 31.5289011 ,\n",
              "       31.93699074, 32.21755236, 32.50661586, 33.11024845, 32.50661586,\n",
              "       31.73294592, 32.50661586, 32.47260839, 32.77867562, 31.18032454,\n",
              "       32.43860092, 31.95399447, 32.40459345, 31.09530586, 31.82646646,\n",
              "       33.23777646, 32.47260839, 32.60863827, 31.40137309, 32.18354489,\n",
              "       32.20054863, 31.76695339, 32.14953742, 31.97950008, 32.29406917,\n",
              "       32.54912519, 31.88597953, 32.84669055, 32.51511772, 31.83496833,\n",
              "       31.57991231, 33.53534182, 32.2600617 , 32.51511772, 33.48433061,\n",
              "       31.5544067 , 32.37908785, 32.21755236, 32.91470549, 32.06451875,\n",
              "       31.88597953, 32.37058598, 32.16654116, 31.67343285, 32.46410652,\n",
              "       32.09002435, 32.70215881, 31.53740297, 31.97950008, 31.26534321,\n",
              "       32.02200941, 31.59691604, 32.07302062, 31.8434702 , 32.43860092,\n",
              "       31.97950008, 32.00500568, 33.05073537, 32.37908785, 31.61391978,\n",
              "       32.37908785, 31.62242164, 32.82968682, 32.27706544, 31.80096086,\n",
              "       31.85197206, 32.6511476 , 32.83818869, 32.2090505 , 32.44710279,\n",
              "       31.54590484, 31.87747767, 33.26328206, 32.9402111 , 32.05601688,\n",
              "       33.331297  , 32.04751502, 32.03051128, 31.24833948, 31.49489363,\n",
              "       32.24305797, 31.57141044, 33.04223351, 31.8689758 , 32.64264574,\n",
              "       32.36208411, 31.64792725, 32.84669055, 32.19204676, 32.08152249,\n",
              "       31.31635442, 32.22605423, 32.65964947, 33.6968773 , 30.92526851,\n",
              "       32.51511772, 31.61391978, 32.67665321, 32.11552995, 32.20054863,\n",
              "       31.83496833, 32.79567935, 32.83818869, 32.13253369, 32.42159718,\n",
              "       31.01878905, 31.80096086, 33.19526712, 32.21755236, 32.9402111 ,\n",
              "       33.02522977, 32.20054863, 32.16654116, 32.90620363, 32.40459345,\n",
              "       31.88597953, 31.4778899 , 31.38436935, 31.8944814 , 32.09002435,\n",
              "       32.47260839, 32.31107291, 31.79245899, 32.02200941, 31.80096086,\n",
              "       33.41631567, 32.21755236, 32.17504303, 32.60863827, 31.82646646,\n",
              "       31.37586749, 32.13253369, 31.79245899, 32.41309532, 31.74144779,\n",
              "       32.03901315, 32.34508038, 32.38758971, 32.53212146, 32.49811399,\n",
              "       32.48961212, 31.73294592, 31.1633208 , 31.85197206, 31.93699074,\n",
              "       32.46410652, 32.9402111 , 32.16654116, 32.41309532, 32.56612893,\n",
              "       32.27706544, 31.40137309, 32.2345561 , 31.80946273, 31.919987  ,\n",
              "       31.80946273, 31.8434702 , 32.72766441, 32.02200941, 32.02200941,\n",
              "       32.82118495, 31.92848887, 31.98800194, 32.93170923, 31.23983761,\n",
              "       32.01350755, 32.2600617 , 32.60863827, 32.34508038, 32.42159718,\n",
              "       32.68515507, 33.11875031, 31.40987496, 32.41309532, 31.67343285,\n",
              "       31.98800194, 32.72766441, 31.97950008, 31.67343285, 32.30257104,\n",
              "       32.13253369, 32.37908785, 32.69365694, 32.11552995, 32.45560465,\n",
              "       33.29728953, 33.12725218, 33.08474284, 33.39931194, 31.90298327,\n",
              "       31.92848887, 32.82968682, 32.44710279, 31.96249634, 31.87747767,\n",
              "       32.09002435, 32.89770176, 31.72444405, 31.97099821, 32.16654116,\n",
              "       31.91148514, 31.65642911, 31.97950008, 31.95399447, 33.12725218,\n",
              "       32.50661586, 31.53740297, 32.39609158, 32.53212146, 31.39287122,\n",
              "       31.94549261, 31.95399447, 31.72444405, 31.72444405, 33.26328206,\n",
              "       33.04223351, 32.41309532, 32.97421857, 32.43860092, 31.32485628,\n",
              "       32.53212146, 32.07302062, 31.14631707, 31.51189737, 32.2600617 ,\n",
              "       31.88597953, 33.00822604, 32.61714013, 32.48961212, 31.93699074,\n",
              "       32.72766441, 31.75845152, 32.27706544, 32.78717748, 32.85519242,\n",
              "       31.69043658, 32.79567935, 32.11552995, 31.1123096 , 32.26856357,\n",
              "       31.80946273, 31.97099821, 32.89770176, 31.43538056, 31.8944814 ,\n",
              "       32.00500568, 31.64792725, 32.47260839, 33.23777646, 32.18354489,\n",
              "       31.80946273, 32.77867562, 32.42159718, 31.92848887, 32.47260839,\n",
              "       30.86575544, 31.51189737, 32.12403182, 32.2600617 , 32.48111025,\n",
              "       33.41631567, 32.53212146, 32.61714013, 32.77017375, 32.86369429,\n",
              "       32.66815134, 33.09324471, 32.54062333, 31.92848887, 32.08152249,\n",
              "       32.2600617 , 32.39609158, 32.54912519, 32.08152249, 32.51511772,\n",
              "       32.26856357, 31.86047393, 32.43860092, 32.34508038, 32.80418122,\n",
              "       31.63942538, 32.65964947, 32.48961212, 32.42159718, 33.16125965,\n",
              "       32.6511476 , 33.48433061, 32.88069802, 32.71916254, 32.09852622,\n",
              "       31.8689758 , 32.33657851, 33.22927459, 31.919987  , 32.71916254,\n",
              "       32.36208411, 31.91148514, 31.71594218, 31.40137309, 33.20376899,\n",
              "       33.96043519, 31.62242164, 32.2345561 , 32.40459345, 31.98800194,\n",
              "       31.90298327, 31.53740297, 30.91676665, 32.36208411, 32.33657851,\n",
              "       32.2345561 , 31.74994965, 32.36208411, 32.2855673 , 32.68515507,\n",
              "       32.98272043, 32.6001364 , 32.03901315, 32.21755236, 31.98800194,\n",
              "       32.63414387, 31.4778899 , 32.38758971, 32.69365694, 31.48639176,\n",
              "       32.32807664, 31.74144779, 32.12403182, 32.67665321, 31.88597953,\n",
              "       31.5544067 , 32.33657851, 32.72766441, 31.74144779, 32.53212146,\n",
              "       31.86047393, 33.28028579, 32.43860092, 32.93170923, 32.31957477,\n",
              "       32.76167188, 32.09002435, 31.57991231, 32.27706544, 32.03051128,\n",
              "       32.80418122, 32.19204676, 32.27706544, 32.03051128, 32.99972417,\n",
              "       32.625642  , 32.30257104, 32.08152249, 31.69893845, 32.37058598,\n",
              "       32.72766441, 32.94871296, 32.14103556, 31.78395712, 32.09852622,\n",
              "       32.74466815, 32.40459345, 31.91148514, 31.78395712, 31.87747767,\n",
              "       32.51511772, 32.5746308 , 32.70215881, 31.80096086, 32.32807664,\n",
              "       32.6511476 , 32.44710279, 32.64264574, 31.95399447, 32.52361959,\n",
              "       32.09852622, 32.13253369, 32.9912223 , 32.35358224, 32.04751502,\n",
              "       32.52361959, 33.0167279 , 32.88919989, 31.23133574, 32.12403182,\n",
              "       32.15803929, 32.64264574, 31.63092351, 31.99650381, 32.58313266,\n",
              "       31.72444405, 32.9402111 , 32.31957477, 31.74994965, 32.08152249,\n",
              "       31.42687869, 32.55762706, 32.14953742, 32.10702809, 32.55762706,\n",
              "       31.46938803, 32.54912519, 31.69893845, 32.71916254, 32.53212146,\n",
              "       32.46410652, 31.43538056, 32.11552995, 32.5746308 , 32.2345561 ,\n",
              "       32.93170923, 30.93377038, 31.46938803, 31.69043658, 32.17504303,\n",
              "       32.83818869, 32.2855673 , 32.05601688, 32.5746308 , 32.2855673 ,\n",
              "       32.49811399, 32.37058598, 31.54590484, 31.91148514, 32.5746308 ,\n",
              "       31.919987  , 32.02200941, 32.92320736, 32.48111025, 31.29935068,\n",
              "       32.60863827, 32.11552995, 32.12403182, 32.44710279, 32.35358224,\n",
              "       32.13253369, 31.46938803, 31.85197206, 31.8944814 , 31.8944814 ,\n",
              "       31.68193472, 31.65642911, 32.77867562, 32.09002435, 31.21433201,\n",
              "       32.56612893, 31.97099821, 32.72766441, 32.50661586, 31.60541791,\n",
              "       32.45560465, 32.71066068, 31.97950008, 31.80096086, 32.68515507,\n",
              "       32.73616628, 31.77545526, 31.43538056, 31.69043658, 31.63942538,\n",
              "       32.40459345, 31.8689758 , 32.45560465, 32.06451875, 31.68193472,\n",
              "       32.88069802, 32.55762706, 31.68193472, 32.25155983, 32.16654116,\n",
              "       31.88597953, 31.86047393, 31.68193472, 31.70744032, 32.46410652,\n",
              "       33.06773911, 33.28028579, 31.8689758 , 32.14953742, 31.99650381,\n",
              "       32.90620363, 31.64792725, 32.04751502, 31.98800194, 32.24305797,\n",
              "       31.75845152, 31.80946273, 31.5544067 , 32.30257104, 32.42159718,\n",
              "       32.95721483, 32.42159718, 32.40459345, 32.48961212, 32.44710279,\n",
              "       31.8944814 , 32.37908785, 32.75317001, 32.61714013, 31.32485628,\n",
              "       32.99972417, 32.06451875, 32.35358224, 32.54062333, 31.32485628,\n",
              "       32.18354489, 31.919987  , 32.2345561 , 32.49811399, 32.09002435,\n",
              "       32.40459345, 32.24305797, 31.99650381, 31.96249634, 32.49811399,\n",
              "       32.34508038, 32.41309532, 32.83818869, 32.15803929, 32.26856357,\n",
              "       32.5746308 , 32.09852622, 32.31107291, 31.41837682, 32.21755236,\n",
              "       31.71594218, 32.21755236, 32.74466815, 31.51189737, 32.14103556,\n",
              "       31.8434702 , 32.14103556, 32.625642  , 32.09002435, 32.04751502,\n",
              "       32.30257104, 32.2090505 , 32.31107291, 31.8944814 , 31.38436935,\n",
              "       32.75317001, 31.40137309, 32.19204676, 32.50661586, 32.37058598,\n",
              "       32.92320736, 32.41309532, 31.97099821, 32.13253369, 32.38758971,\n",
              "       31.99650381, 32.31107291, 32.6001364 , 32.15803929, 32.75317001,\n",
              "       32.86369429, 31.69893845, 32.37058598, 31.66493098, 31.77545526,\n",
              "       32.34508038, 32.43009905, 32.82118495, 32.17504303, 31.92848887,\n",
              "       32.67665321, 32.45560465, 31.87747767, 32.30257104, 31.41837682,\n",
              "       32.24305797, 31.8434702 , 32.32807664, 32.5746308 , 32.5746308 ,\n",
              "       32.08152249, 31.32485628, 32.37058598, 32.05601688, 32.64264574,\n",
              "       32.5746308 , 32.04751502, 31.91148514, 32.5746308 , 32.46410652,\n",
              "       31.91148514, 31.92848887, 32.50661586, 31.29084881, 32.25155983,\n",
              "       32.39609158, 32.12403182, 31.62242164, 32.2090505 , 32.71066068,\n",
              "       33.36530447, 32.04751502, 31.63942538, 32.84669055, 32.88069802,\n",
              "       32.98272043, 31.76695339, 32.17504303, 32.58313266, 32.6511476 ,\n",
              "       31.78395712, 31.63942538, 31.40987496, 31.99650381, 32.83818869,\n",
              "       32.19204676, 33.02522977, 31.22283387, 33.16125965, 32.2855673 ,\n",
              "       32.61714013, 32.77867562, 32.95721483, 32.03051128, 32.625642  ,\n",
              "       32.84669055, 32.71066068, 32.05601688, 31.61391978, 32.71066068,\n",
              "       32.07302062, 31.30785255, 33.05073537, 31.82646646, 31.5289011 ,\n",
              "       33.66286983, 32.03051128, 31.4778899 , 33.45032314, 32.25155983,\n",
              "       32.81268309, 32.95721483, 31.91148514, 32.47260839, 31.78395712,\n",
              "       32.78717748, 32.14953742, 32.6511476 , 32.66815134, 32.30257104,\n",
              "       32.6511476 , 32.35358224, 32.26856357, 31.94549261, 32.85519242,\n",
              "       32.47260839, 32.11552995, 32.48961212, 32.32807664, 32.66815134,\n",
              "       32.2855673 , 31.80946273, 31.91148514, 32.77867562, 31.66493098,\n",
              "       33.05923724, 32.20054863, 32.02200941, 32.02200941, 31.43538056,\n",
              "       31.01028719, 32.79567935, 32.58313266, 31.56290857, 33.18676525,\n",
              "       31.43538056, 31.74994965, 33.28028579, 31.75845152, 32.6001364 ,\n",
              "       31.75845152, 32.77017375, 33.00822604, 31.30785255, 32.77017375,\n",
              "       32.38758971, 31.94549261, 31.30785255, 31.91148514, 33.45882501,\n",
              "       32.47260839, 32.56612893, 32.2345561 , 31.42687869, 32.53212146,\n",
              "       33.27178393, 32.76167188, 32.77017375, 32.2090505 , 32.33657851,\n",
              "       32.70215881, 31.57991231, 31.97950008, 31.35886375, 32.09852622,\n",
              "       32.08152249, 32.00500568, 32.03051128, 31.66493098, 31.86047393,\n",
              "       31.57141044, 31.83496833, 33.07624098, 32.13253369, 32.61714013,\n",
              "       31.49489363, 33.27178393, 32.08152249, 32.07302062, 31.66493098,\n",
              "       32.97421857, 32.10702809, 32.16654116, 31.71594218, 31.88597953,\n",
              "       32.12403182, 31.71594218, 32.16654116, 32.9912223 , 32.55762706,\n",
              "       31.49489363, 31.80946273, 31.78395712, 32.37908785, 32.21755236,\n",
              "       32.29406917, 32.29406917, 33.08474284, 32.11552995, 32.54062333,\n",
              "       31.36736562, 32.26856357, 31.61391978, 32.6001364 , 32.31957477,\n",
              "       32.26856357, 32.17504303, 31.87747767, 32.50661586, 32.2855673 ,\n",
              "       32.24305797, 32.03051128, 32.2855673 , 33.03373164, 32.06451875,\n",
              "       31.23983761, 31.919987  , 32.68515507, 32.81268309, 32.2090505 ,\n",
              "       32.90620363, 32.03901315, 32.16654116, 31.88597953, 32.01350755,\n",
              "       32.43860092, 31.38436935, 32.625642  , 32.71916254, 31.39287122,\n",
              "       32.48961212, 31.74994965, 31.58841417, 32.26856357, 31.34186002,\n",
              "       32.02200941, 32.31107291, 32.60863827, 31.82646646, 32.39609158,\n",
              "       32.35358224, 31.63942538, 32.11552995, 32.41309532, 31.26534321,\n",
              "       31.87747767, 32.83818869, 31.8944814 , 32.32807664, 32.31107291,\n",
              "       31.95399447, 32.45560465, 32.17504303, 32.95721483, 32.68515507,\n",
              "       30.97627972, 32.22605423, 32.03901315, 32.37908785, 32.19204676,\n",
              "       32.88919989, 31.29084881, 32.30257104, 32.35358224, 32.2855673 ,\n",
              "       32.10702809, 32.11552995, 32.38758971, 33.34830073, 32.84669055,\n",
              "       32.89770176, 32.15803929, 32.82118495, 32.42159718, 32.63414387,\n",
              "       30.60219755, 30.38965086, 33.98594079, 30.81474424, 33.97743893])"
            ]
          },
          "metadata": {},
          "execution_count": 62
        }
      ]
    },
    {
      "cell_type": "code",
      "source": [
        "#Predicting LPA for given cgpa\n",
        "model.predict([[8.26]])"
      ],
      "metadata": {
        "colab": {
          "base_uri": "https://localhost:8080/"
        },
        "id": "QnIL7ITl7-Xm",
        "outputId": "202e2777-50e7-4e71-ca8d-f2d7074b1269"
      },
      "execution_count": 63,
      "outputs": [
        {
          "output_type": "execute_result",
          "data": {
            "text/plain": [
              "array([31.12081146])"
            ]
          },
          "metadata": {},
          "execution_count": 63
        }
      ]
    },
    {
      "cell_type": "code",
      "source": [
        "#Analysing The slope and intercept"
      ],
      "metadata": {
        "id": "ylvKVO2o8Kf1"
      },
      "execution_count": 64,
      "outputs": []
    },
    {
      "cell_type": "code",
      "source": [
        "#to get slope\n",
        "slope = model.coef_\n",
        "slope"
      ],
      "metadata": {
        "colab": {
          "base_uri": "https://localhost:8080/"
        },
        "id": "EWb5sEMM8P-F",
        "outputId": "5bdd517c-bb0f-4bfe-9e65-862e7b7e7322"
      },
      "execution_count": 65,
      "outputs": [
        {
          "output_type": "execute_result",
          "data": {
            "text/plain": [
              "array([-0.85018674])"
            ]
          },
          "metadata": {},
          "execution_count": 65
        }
      ]
    },
    {
      "cell_type": "code",
      "source": [
        "#to get intercept\n",
        "intercept = model.intercept_ \n",
        "intercept"
      ],
      "metadata": {
        "colab": {
          "base_uri": "https://localhost:8080/"
        },
        "id": "_3ohxhaH8Wad",
        "outputId": "be090d3a-2e97-44d1-cde6-028285a309f7"
      },
      "execution_count": 66,
      "outputs": [
        {
          "output_type": "execute_result",
          "data": {
            "text/plain": [
              "38.14335397274452"
            ]
          },
          "metadata": {},
          "execution_count": 66
        }
      ]
    },
    {
      "cell_type": "code",
      "source": [
        "#Plotting The best fit line\n",
        "plt.xlabel(\"CGPA\")\n",
        "plt.ylabel(\"TOTAL SALARY IN LPA\")\n",
        "plt.title(\"CGPA vs TOTAL STUDENT'S SALARY\")\n",
        "plt.scatter(df['cgpa'],df['placement_exam_marks'])\n",
        "plt.plot(df['cgpa'],y_pred,color='orange')\n",
        "\n",
        "#here the orange line denotes the best fit line\n",
        "#blue points denote the actual values\n",
        "#best fit line denotes predicted values"
      ],
      "metadata": {
        "colab": {
          "base_uri": "https://localhost:8080/",
          "height": 312
        },
        "id": "AEfdo4y98fi-",
        "outputId": "64d8f355-1738-4e0d-eb3d-bb132e23279f"
      },
      "execution_count": 67,
      "outputs": [
        {
          "output_type": "execute_result",
          "data": {
            "text/plain": [
              "[<matplotlib.lines.Line2D at 0x7f3a5bf11880>]"
            ]
          },
          "metadata": {},
          "execution_count": 67
        },
        {
          "output_type": "display_data",
          "data": {
            "text/plain": [
              "<Figure size 432x288 with 1 Axes>"
            ],
            "image/png": "[encoded data removed]"
          },
          "metadata": {
            "needs_background": "light"
          }
        }
      ]
    },
    {
      "cell_type": "code",
      "source": [
        "#Calculating Accuracy Of Regression Model\n",
        "\n",
        "from sklearn.metrics import r2_score,mean_absolute_percentage_error,mean_squared_error\n",
        "mean_absolute_percentage_error(lpa,y_pred)*100"
      ],
      "metadata": {
        "colab": {
          "base_uri": "https://localhost:8080/"
        },
        "id": "Fz7v3K0b96xu",
        "outputId": "afa5e862-34cb-4591-dd1c-d28fdc10433a"
      },
      "execution_count": 68,
      "outputs": [
        {
          "output_type": "execute_result",
          "data": {
            "text/plain": [
              "1.4455891072308316e+16"
            ]
          },
          "metadata": {},
          "execution_count": 68
        }
      ]
    },
    {
      "cell_type": "code",
      "source": [
        "#r2_score\n",
        "r2_score(lpa,y_pred)*100"
      ],
      "metadata": {
        "colab": {
          "base_uri": "https://localhost:8080/"
        },
        "id": "R-xf0x7g7Z6e",
        "outputId": "32e1e079-49a3-450f-955d-afe217420b23"
      },
      "execution_count": 69,
      "outputs": [
        {
          "output_type": "execute_result",
          "data": {
            "text/plain": [
              "0.07491672661754656"
            ]
          },
          "metadata": {},
          "execution_count": 69
        }
      ]
    },
    {
      "cell_type": "code",
      "source": [
        "#MSE\n",
        "mean_squared_error(lpa,y_pred)*100"
      ],
      "metadata": {
        "colab": {
          "base_uri": "https://localhost:8080/"
        },
        "id": "a97Er8p57ehd",
        "outputId": "8e056da5-6415-466b-f999-7a6f63020141"
      },
      "execution_count": 70,
      "outputs": [
        {
          "output_type": "execute_result",
          "data": {
            "text/plain": [
              "36534.846268486865"
            ]
          },
          "metadata": {},
          "execution_count": 70
        }
      ]
    },
    {
      "cell_type": "code",
      "source": [
        "#Reshaping the arrays\n",
        "from sklearn.model_selection import train_test_split \n",
        "X = df['cgpa'].values.reshape(-1,1)\n",
        "Y = df['placement_exam_marks'].values.reshape(-1,1)\n",
        "X_TRAIN,X_TEST,Y_TRAIN,Y_TEST = train_test_split(X,Y,test_size = 0.5)\n",
        "model.fit(X_TRAIN,Y_TRAIN)\n",
        "y_pred = model.predict(X_TEST)\n",
        "r2_score(Y_TRAIN,y_pred)*100\n"
      ],
      "metadata": {
        "colab": {
          "base_uri": "https://localhost:8080/"
        },
        "id": "s0jcD7arc3__",
        "outputId": "f6b6fab2-039a-4d4e-fe7d-89cb0e04e820"
      },
      "execution_count": 75,
      "outputs": [
        {
          "output_type": "execute_result",
          "data": {
            "text/plain": [
              "-0.5359142576094822"
            ]
          },
          "metadata": {},
          "execution_count": 75
        }
      ]
    }
  ]
}